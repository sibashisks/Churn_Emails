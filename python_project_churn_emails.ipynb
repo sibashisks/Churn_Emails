{
 "cells": [
  {
   "cell_type": "code",
   "execution_count": 61,
   "metadata": {},
   "outputs": [],
   "source": [
    "def number_of_lines(): # number of lines in file\n",
    "    fhand = open('F:/Projects/Cloudxlab/Project 1/mbox-short.txt', 'r')\n",
    "    inp = fhand.read()\n",
    "    fhand.close()\n",
    "    inp = inp.split('\\n')\n",
    "    return len(inp) - 1 # if '\\n' is present in last line then an empty string is created for content towards right of '\\n', hence -1"
   ]
  },
  {
   "cell_type": "code",
   "execution_count": 62,
   "metadata": {},
   "outputs": [
    {
     "data": {
      "text/plain": [
       "1910"
      ]
     },
     "execution_count": 62,
     "metadata": {},
     "output_type": "execute_result"
    }
   ],
   "source": [
    "number_of_lines()"
   ]
  },
  {
   "cell_type": "code",
   "execution_count": 63,
   "metadata": {},
   "outputs": [],
   "source": [
    "def count_number_of_lines(): # count lines starting with 'Subject: '\n",
    "    fhand = open('F:/Projects/Cloudxlab/Project 1/mbox-short.txt')\n",
    "    cnt = 0\n",
    "    for line in fhand:\n",
    "        if line.startswith('Subject: '):\n",
    "            cnt += 1\n",
    "    fhand.close()\n",
    "    return cnt"
   ]
  },
  {
   "cell_type": "code",
   "execution_count": 64,
   "metadata": {},
   "outputs": [
    {
     "data": {
      "text/plain": [
       "27"
      ]
     },
     "execution_count": 64,
     "metadata": {},
     "output_type": "execute_result"
    }
   ],
   "source": [
    "count_number_of_lines()"
   ]
  },
  {
   "cell_type": "code",
   "execution_count": 75,
   "metadata": {},
   "outputs": [],
   "source": [
    "def average_spam_confidence(): # calculate spam confidence\n",
    "    fhand = open('F:/Projects/Cloudxlab/Project 1/mbox-short.txt')\n",
    "    spam_conf = 0\n",
    "    cnt = 0\n",
    "    for line in fhand:\n",
    "        if line.startswith('X-DSPAM-Confidence:'):\n",
    "            line = line.rstrip()\n",
    "            temp = line.split(':')\n",
    "            spam_conf += float(temp[1].lstrip())\n",
    "            cnt += 1\n",
    "    fhand.close()\n",
    "    return spam_conf/cnt"
   ]
  },
  {
   "cell_type": "code",
   "execution_count": 76,
   "metadata": {},
   "outputs": [
    {
     "data": {
      "text/plain": [
       "0.7507185185185187"
      ]
     },
     "execution_count": 76,
     "metadata": {},
     "output_type": "execute_result"
    }
   ],
   "source": [
    "average_spam_confidence()"
   ]
  },
  {
   "cell_type": "code",
   "execution_count": 91,
   "metadata": {},
   "outputs": [],
   "source": [
    "def find_email_sent_days(): # days and their count in which the mail was received\n",
    "    fhand = open('F:/Projects/Cloudxlab/Project 1/mbox-short.txt')\n",
    "    day_count = {}\n",
    "    for line in fhand:\n",
    "        if line.startswith('From'):\n",
    "            line = line.rstrip()\n",
    "            temp = line.split(' ')\n",
    "            if len(temp) > 2 and temp[2] not in day_count:\n",
    "                day_count[temp[2]] = 1\n",
    "            elif len(temp) > 2:\n",
    "                day_count[temp[2]] = day_count[temp[2]] + 1\n",
    "    fhand.close()\n",
    "    return day_count"
   ]
  },
  {
   "cell_type": "code",
   "execution_count": 92,
   "metadata": {},
   "outputs": [
    {
     "data": {
      "text/plain": [
       "{'Sat': 1, 'Fri': 20, 'Thu': 6}"
      ]
     },
     "execution_count": 92,
     "metadata": {},
     "output_type": "execute_result"
    }
   ],
   "source": [
    "find_email_sent_days()"
   ]
  },
  {
   "cell_type": "code",
   "execution_count": 93,
   "metadata": {},
   "outputs": [],
   "source": [
    "def count_message_from_email(): # mails received from each mail id\n",
    "    fhand = open('F:/Projects/Cloudxlab/Project 1/mbox-short.txt')\n",
    "    email_re = {}\n",
    "    for line in fhand:\n",
    "        if line.startswith('From'):\n",
    "            line = line.rstrip()\n",
    "            temp = line.split(' ')\n",
    "            if len(temp) > 2 and temp[1] not in email_re:\n",
    "                email_re[temp[1]] = 1\n",
    "            elif len(temp) > 2:\n",
    "                email_re[temp[1]] = email_re[temp[1]] + 1\n",
    "    fhand.close()\n",
    "    return email_re"
   ]
  },
  {
   "cell_type": "code",
   "execution_count": 94,
   "metadata": {},
   "outputs": [
    {
     "data": {
      "text/plain": [
       "{'stephen.marquard@uct.ac.za': 2,\n",
       " 'louis@media.berkeley.edu': 3,\n",
       " 'zqian@umich.edu': 4,\n",
       " 'rjlowe@iupui.edu': 2,\n",
       " 'cwen@iupui.edu': 5,\n",
       " 'gsilver@umich.edu': 3,\n",
       " 'wagnermr@iupui.edu': 1,\n",
       " 'antranig@caret.cam.ac.uk': 1,\n",
       " 'gopal.ramasammycook@gmail.com': 1,\n",
       " 'david.horwitz@uct.ac.za': 4,\n",
       " 'ray@media.berkeley.edu': 1}"
      ]
     },
     "execution_count": 94,
     "metadata": {},
     "output_type": "execute_result"
    }
   ],
   "source": [
    "count_message_from_email()"
   ]
  },
  {
   "cell_type": "code",
   "execution_count": 102,
   "metadata": {},
   "outputs": [],
   "source": [
    "def count_message_from_domain(): # mails received from each domain\n",
    "    fhand = open('F:/Projects/Cloudxlab/Project 1/mbox-short.txt')\n",
    "    domain_re = {}\n",
    "    for line in fhand:\n",
    "        if line.startswith('From'):\n",
    "            line = line.rstrip()\n",
    "            temp = line.split(' ')\n",
    "            if len(temp) > 2:\n",
    "                temp2 = temp[1].split('@')\n",
    "                if temp2[1] not in domain_re:\n",
    "                    domain_re[temp2[1]] = 1\n",
    "                else:\n",
    "                    domain_re[temp2[1]] = domain_re[temp2[1]] + 1\n",
    "    fhand.close()\n",
    "    return domain_re"
   ]
  },
  {
   "cell_type": "code",
   "execution_count": 103,
   "metadata": {},
   "outputs": [
    {
     "data": {
      "text/plain": [
       "{'uct.ac.za': 6,\n",
       " 'media.berkeley.edu': 4,\n",
       " 'umich.edu': 7,\n",
       " 'iupui.edu': 8,\n",
       " 'caret.cam.ac.uk': 1,\n",
       " 'gmail.com': 1}"
      ]
     },
     "execution_count": 103,
     "metadata": {},
     "output_type": "execute_result"
    }
   ],
   "source": [
    "count_message_from_domain()"
   ]
  }
 ],
 "metadata": {
  "kernelspec": {
   "display_name": "Python 3",
   "language": "python",
   "name": "python3"
  },
  "language_info": {
   "codemirror_mode": {
    "name": "ipython",
    "version": 3
   },
   "file_extension": ".py",
   "mimetype": "text/x-python",
   "name": "python",
   "nbconvert_exporter": "python",
   "pygments_lexer": "ipython3",
   "version": "3.6.8"
  },
  "toc": {
   "base_numbering": 1,
   "nav_menu": {},
   "number_sections": true,
   "sideBar": true,
   "skip_h1_title": false,
   "title_cell": "Table of Contents",
   "title_sidebar": "Contents",
   "toc_cell": false,
   "toc_position": {},
   "toc_section_display": true,
   "toc_window_display": false
  }
 },
 "nbformat": 4,
 "nbformat_minor": 2
}